{
 "cells": [
  {
   "cell_type": "code",
   "execution_count": 1,
   "id": "736f3d0f",
   "metadata": {
    "_cell_guid": "b1076dfc-b9ad-4769-8c92-a6c4dae69d19",
    "_uuid": "8f2839f25d086af736a60e9eeb907d3b93b6e0e5",
    "execution": {
     "iopub.execute_input": "2023-10-26T12:19:59.309764Z",
     "iopub.status.busy": "2023-10-26T12:19:59.309116Z",
     "iopub.status.idle": "2023-10-26T12:20:00.880326Z",
     "shell.execute_reply": "2023-10-26T12:20:00.879166Z"
    },
    "papermill": {
     "duration": 1.581095,
     "end_time": "2023-10-26T12:20:00.883922",
     "exception": false,
     "start_time": "2023-10-26T12:19:59.302827",
     "status": "completed"
    },
    "tags": []
   },
   "outputs": [
    {
     "name": "stdout",
     "output_type": "stream",
     "text": [
      "Keys:\n",
      "dict_keys(['data', 'target', 'frame', 'target_names', 'DESCR', 'feature_names', 'filename', 'data_module'])\n"
     ]
    }
   ],
   "source": [
    "#216270307093\n",
    "#Gohel Sanjana Dhirajlal\n",
    "\n",
    "import numpy as np # linear algebra\n",
    "import pandas as pd # data processing, CSV file I/O (e.g. pd.read_csv)\n",
    "\n",
    "# Import necessary libraries\n",
    "from sklearn import datasets\n",
    "\n",
    "# Load iris dataset\n",
    "data = datasets.load_iris()\n",
    "\n",
    "# Print the keys\n",
    "print(\"Keys:\")\n",
    "print(data.keys())\n"
   ]
  },
  {
   "cell_type": "code",
   "execution_count": 2,
   "id": "50900d82",
   "metadata": {
    "execution": {
     "iopub.execute_input": "2023-10-26T12:20:00.894665Z",
     "iopub.status.busy": "2023-10-26T12:20:00.893803Z",
     "iopub.status.idle": "2023-10-26T12:20:00.899708Z",
     "shell.execute_reply": "2023-10-26T12:20:00.898547Z"
    },
    "papermill": {
     "duration": 0.012906,
     "end_time": "2023-10-26T12:20:00.902315",
     "exception": false,
     "start_time": "2023-10-26T12:20:00.889409",
     "status": "completed"
    },
    "tags": []
   },
   "outputs": [
    {
     "name": "stdout",
     "output_type": "stream",
     "text": [
      "\n",
      "Number of Rows and Columns:\n",
      "(150, 4)\n"
     ]
    }
   ],
   "source": [
    "#216270307093\n",
    "#Gohel Sanjana Dhirajlal\n",
    "\n",
    "# Print number of rows and columns\n",
    "print(\"\\nNumber of Rows and Columns:\")\n",
    "print(data.data.shape)\n",
    "\n",
    "\n"
   ]
  },
  {
   "cell_type": "code",
   "execution_count": 3,
   "id": "760aef38",
   "metadata": {
    "execution": {
     "iopub.execute_input": "2023-10-26T12:20:00.910374Z",
     "iopub.status.busy": "2023-10-26T12:20:00.910017Z",
     "iopub.status.idle": "2023-10-26T12:20:00.915031Z",
     "shell.execute_reply": "2023-10-26T12:20:00.913832Z"
    },
    "papermill": {
     "duration": 0.012895,
     "end_time": "2023-10-26T12:20:00.918352",
     "exception": false,
     "start_time": "2023-10-26T12:20:00.905457",
     "status": "completed"
    },
    "tags": []
   },
   "outputs": [
    {
     "name": "stdout",
     "output_type": "stream",
     "text": [
      "\n",
      "Feature Names:\n",
      "['sepal length (cm)', 'sepal width (cm)', 'petal length (cm)', 'petal width (cm)']\n"
     ]
    }
   ],
   "source": [
    "#216270307093\n",
    "#Gohel Sanjana Dhirajlal\n",
    "\n",
    "# Print feature names\n",
    "print(\"\\nFeature Names:\")\n",
    "print(data.feature_names)\n",
    "\n"
   ]
  },
  {
   "cell_type": "code",
   "execution_count": 4,
   "id": "be883da2",
   "metadata": {
    "execution": {
     "iopub.execute_input": "2023-10-26T12:20:00.926472Z",
     "iopub.status.busy": "2023-10-26T12:20:00.926109Z",
     "iopub.status.idle": "2023-10-26T12:20:00.932559Z",
     "shell.execute_reply": "2023-10-26T12:20:00.931351Z"
    },
    "papermill": {
     "duration": 0.013677,
     "end_time": "2023-10-26T12:20:00.935338",
     "exception": false,
     "start_time": "2023-10-26T12:20:00.921661",
     "status": "completed"
    },
    "tags": []
   },
   "outputs": [
    {
     "name": "stdout",
     "output_type": "stream",
     "text": [
      "\n",
      "Description:\n",
      ".. _iris_dataset:\n",
      "\n",
      "Iris plants dataset\n",
      "--------------------\n",
      "\n",
      "**Data Set Characteristics:**\n",
      "\n",
      "    :Number of Instances: 150 (50 in each of three classes)\n",
      "    :Number of Attributes: 4 numeric, predictive attributes and the class\n",
      "    :Attribute Information:\n",
      "        - sepal length in cm\n",
      "        - sepal width in cm\n",
      "        - petal length in cm\n",
      "        - petal width in cm\n",
      "        - class:\n",
      "                - Iris-Setosa\n",
      "                - Iris-Versicolour\n",
      "                - Iris-Virginica\n",
      "                \n",
      "    :Summary Statistics:\n",
      "\n",
      "    ============== ==== ==== ======= ===== ====================\n",
      "                    Min  Max   Mean    SD   Class Correlation\n",
      "    ============== ==== ==== ======= ===== ====================\n",
      "    sepal length:   4.3  7.9   5.84   0.83    0.7826\n",
      "    sepal width:    2.0  4.4   3.05   0.43   -0.4194\n",
      "    petal length:   1.0  6.9   3.76   1.76    0.9490  (high!)\n",
      "    petal width:    0.1  2.5   1.20   0.76    0.9565  (high!)\n",
      "    ============== ==== ==== ======= ===== ====================\n",
      "\n",
      "    :Missing Attribute Values: None\n",
      "    :Class Distribution: 33.3% for each of 3 classes.\n",
      "    :Creator: R.A. Fisher\n",
      "    :Donor: Michael Marshall (MARSHALL%PLU@io.arc.nasa.gov)\n",
      "    :Date: July, 1988\n",
      "\n",
      "The famous Iris database, first used by Sir R.A. Fisher. The dataset is taken\n",
      "from Fisher's paper. Note that it's the same as in R, but not as in the UCI\n",
      "Machine Learning Repository, which has two wrong data points.\n",
      "\n",
      "This is perhaps the best known database to be found in the\n",
      "pattern recognition literature.  Fisher's paper is a classic in the field and\n",
      "is referenced frequently to this day.  (See Duda & Hart, for example.)  The\n",
      "data set contains 3 classes of 50 instances each, where each class refers to a\n",
      "type of iris plant.  One class is linearly separable from the other 2; the\n",
      "latter are NOT linearly separable from each other.\n",
      "\n",
      ".. topic:: References\n",
      "\n",
      "   - Fisher, R.A. \"The use of multiple measurements in taxonomic problems\"\n",
      "     Annual Eugenics, 7, Part II, 179-188 (1936); also in \"Contributions to\n",
      "     Mathematical Statistics\" (John Wiley, NY, 1950).\n",
      "   - Duda, R.O., & Hart, P.E. (1973) Pattern Classification and Scene Analysis.\n",
      "     (Q327.D83) John Wiley & Sons.  ISBN 0-471-22361-1.  See page 218.\n",
      "   - Dasarathy, B.V. (1980) \"Nosing Around the Neighborhood: A New System\n",
      "     Structure and Classification Rule for Recognition in Partially Exposed\n",
      "     Environments\".  IEEE Transactions on Pattern Analysis and Machine\n",
      "     Intelligence, Vol. PAMI-2, No. 1, 67-71.\n",
      "   - Gates, G.W. (1972) \"The Reduced Nearest Neighbor Rule\".  IEEE Transactions\n",
      "     on Information Theory, May 1972, 431-433.\n",
      "   - See also: 1988 MLC Proceedings, 54-64.  Cheeseman et al\"s AUTOCLASS II\n",
      "     conceptual clustering system finds 3 classes in the data.\n",
      "   - Many, many more ...\n"
     ]
    }
   ],
   "source": [
    "#216270307093\n",
    "#Gohel Sanjana Dhirajlal\n",
    "\n",
    "# Print description\n",
    "print(\"\\nDescription:\")\n",
    "print(data.DESCR)"
   ]
  },
  {
   "cell_type": "code",
   "execution_count": null,
   "id": "75079cf4",
   "metadata": {
    "papermill": {
     "duration": 0.003161,
     "end_time": "2023-10-26T12:20:00.942010",
     "exception": false,
     "start_time": "2023-10-26T12:20:00.938849",
     "status": "completed"
    },
    "tags": []
   },
   "outputs": [],
   "source": []
  },
  {
   "cell_type": "code",
   "execution_count": null,
   "id": "24590a10",
   "metadata": {
    "papermill": {
     "duration": 0.003061,
     "end_time": "2023-10-26T12:20:00.948533",
     "exception": false,
     "start_time": "2023-10-26T12:20:00.945472",
     "status": "completed"
    },
    "tags": []
   },
   "outputs": [],
   "source": []
  }
 ],
 "metadata": {
  "kernelspec": {
   "display_name": "Python 3",
   "language": "python",
   "name": "python3"
  },
  "language_info": {
   "codemirror_mode": {
    "name": "ipython",
    "version": 3
   },
   "file_extension": ".py",
   "mimetype": "text/x-python",
   "name": "python",
   "nbconvert_exporter": "python",
   "pygments_lexer": "ipython3",
   "version": "3.10.12"
  },
  "papermill": {
   "default_parameters": {},
   "duration": 5.779949,
   "end_time": "2023-10-26T12:20:01.572357",
   "environment_variables": {},
   "exception": null,
   "input_path": "__notebook__.ipynb",
   "output_path": "__notebook__.ipynb",
   "parameters": {},
   "start_time": "2023-10-26T12:19:55.792408",
   "version": "2.4.0"
  }
 },
 "nbformat": 4,
 "nbformat_minor": 5
}
